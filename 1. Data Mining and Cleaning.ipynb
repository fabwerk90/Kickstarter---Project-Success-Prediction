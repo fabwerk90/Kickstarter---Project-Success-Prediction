{
 "cells": [
  {
   "cell_type": "markdown",
   "metadata": {},
   "source": [
    "# 1. Data Mining & Data Cleaning"
   ]
  },
  {
   "cell_type": "markdown",
   "metadata": {},
   "source": [
    "## Setup"
   ]
  },
  {
   "cell_type": "markdown",
   "metadata": {},
   "source": [
    "## Importing Packages:"
   ]
  },
  {
   "cell_type": "code",
   "execution_count": 1,
   "metadata": {},
   "outputs": [],
   "source": [
    "import pandas as pd\n",
    "import numpy as np\n",
    "import matplotlib\n",
    "import matplotlib.pyplot as plt\n",
    "import seaborn as sns\n",
    "import glob # for putting the csv files together"
   ]
  },
  {
   "cell_type": "markdown",
   "metadata": {},
   "source": [
    "## Data Mining"
   ]
  },
  {
   "cell_type": "markdown",
   "metadata": {},
   "source": [
    "Dataset is already given but is splitted into several smaller chunks, so we habe to put all pieces together"
   ]
  },
  {
   "cell_type": "code",
   "execution_count": 2,
   "metadata": {},
   "outputs": [],
   "source": [
    "# Generate a dataframe with all csv-files\n",
    "\n",
    "path =r'data'\n",
    "filenames = glob.glob(path + \"/*.csv\")\n",
    "dfs = []\n",
    "for filename in filenames:\n",
    "    dfs.append(pd.read_csv(filename))\n",
    "    \n",
    "# Concatenate all data into one DataFrame\n",
    "\n",
    "df_raw = pd.concat(dfs, ignore_index=True)"
   ]
  },
  {
   "cell_type": "markdown",
   "metadata": {},
   "source": [
    "## Data Cleaning"
   ]
  },
  {
   "cell_type": "markdown",
   "metadata": {},
   "source": [
    "### First look at dataframe"
   ]
  },
  {
   "cell_type": "code",
   "execution_count": 3,
   "metadata": {},
   "outputs": [
    {
     "data": {
      "text/plain": [
       "(209222, 37)"
      ]
     },
     "execution_count": 3,
     "metadata": {},
     "output_type": "execute_result"
    }
   ],
   "source": [
    "df_raw.shape"
   ]
  },
  {
   "cell_type": "code",
   "execution_count": 4,
   "metadata": {},
   "outputs": [],
   "source": [
    "# following function lets us see all columns one by one\n",
    "pd.set_option('display.max_columns', None)"
   ]
  },
  {
   "cell_type": "code",
   "execution_count": 5,
   "metadata": {
    "scrolled": true
   },
   "outputs": [
    {
     "data": {
      "text/html": [
       "<div>\n",
       "<style scoped>\n",
       "    .dataframe tbody tr th:only-of-type {\n",
       "        vertical-align: middle;\n",
       "    }\n",
       "\n",
       "    .dataframe tbody tr th {\n",
       "        vertical-align: top;\n",
       "    }\n",
       "\n",
       "    .dataframe thead th {\n",
       "        text-align: right;\n",
       "    }\n",
       "</style>\n",
       "<table border=\"1\" class=\"dataframe\">\n",
       "  <thead>\n",
       "    <tr style=\"text-align: right;\">\n",
       "      <th></th>\n",
       "      <th>backers_count</th>\n",
       "      <th>blurb</th>\n",
       "      <th>category</th>\n",
       "      <th>converted_pledged_amount</th>\n",
       "      <th>country</th>\n",
       "      <th>created_at</th>\n",
       "      <th>creator</th>\n",
       "      <th>currency</th>\n",
       "      <th>currency_symbol</th>\n",
       "      <th>currency_trailing_code</th>\n",
       "      <th>current_currency</th>\n",
       "      <th>deadline</th>\n",
       "      <th>disable_communication</th>\n",
       "      <th>friends</th>\n",
       "      <th>fx_rate</th>\n",
       "      <th>goal</th>\n",
       "      <th>id</th>\n",
       "      <th>is_backing</th>\n",
       "      <th>is_starrable</th>\n",
       "      <th>is_starred</th>\n",
       "      <th>launched_at</th>\n",
       "      <th>location</th>\n",
       "      <th>name</th>\n",
       "      <th>permissions</th>\n",
       "      <th>photo</th>\n",
       "      <th>pledged</th>\n",
       "      <th>profile</th>\n",
       "      <th>slug</th>\n",
       "      <th>source_url</th>\n",
       "      <th>spotlight</th>\n",
       "      <th>staff_pick</th>\n",
       "      <th>state</th>\n",
       "      <th>state_changed_at</th>\n",
       "      <th>static_usd_rate</th>\n",
       "      <th>urls</th>\n",
       "      <th>usd_pledged</th>\n",
       "      <th>usd_type</th>\n",
       "    </tr>\n",
       "  </thead>\n",
       "  <tbody>\n",
       "    <tr>\n",
       "      <th>0</th>\n",
       "      <td>315</td>\n",
       "      <td>Babalus Shoes</td>\n",
       "      <td>{\"id\":266,\"name\":\"Footwear\",\"slug\":\"fashion/fo...</td>\n",
       "      <td>28645</td>\n",
       "      <td>US</td>\n",
       "      <td>1541459205</td>\n",
       "      <td>{\"id\":2094277840,\"name\":\"Lucy Conroy\",\"slug\":\"...</td>\n",
       "      <td>USD</td>\n",
       "      <td>$</td>\n",
       "      <td>True</td>\n",
       "      <td>USD</td>\n",
       "      <td>1552539775</td>\n",
       "      <td>False</td>\n",
       "      <td>NaN</td>\n",
       "      <td>1.0</td>\n",
       "      <td>28000.0</td>\n",
       "      <td>2108505034</td>\n",
       "      <td>NaN</td>\n",
       "      <td>False</td>\n",
       "      <td>NaN</td>\n",
       "      <td>1548223375</td>\n",
       "      <td>{\"id\":2462429,\"name\":\"Novato\",\"slug\":\"novato-c...</td>\n",
       "      <td>Babalus Children's Shoes</td>\n",
       "      <td>NaN</td>\n",
       "      <td>{\"key\":\"assets/023/667/205/a565fde5382d6b53276...</td>\n",
       "      <td>28645.0</td>\n",
       "      <td>{\"id\":3508024,\"project_id\":3508024,\"state\":\"in...</td>\n",
       "      <td>babalus-childrens-shoes</td>\n",
       "      <td>https://www.kickstarter.com/discover/categorie...</td>\n",
       "      <td>False</td>\n",
       "      <td>False</td>\n",
       "      <td>live</td>\n",
       "      <td>1548223375</td>\n",
       "      <td>1.0</td>\n",
       "      <td>{\"web\":{\"project\":\"https://www.kickstarter.com...</td>\n",
       "      <td>28645.0</td>\n",
       "      <td>international</td>\n",
       "    </tr>\n",
       "    <tr>\n",
       "      <th>1</th>\n",
       "      <td>47</td>\n",
       "      <td>A colorful Dia de los Muertos themed oracle de...</td>\n",
       "      <td>{\"id\":273,\"name\":\"Playing Cards\",\"slug\":\"games...</td>\n",
       "      <td>1950</td>\n",
       "      <td>US</td>\n",
       "      <td>1501684093</td>\n",
       "      <td>{\"id\":723886115,\"name\":\"Lisa Vollrath\",\"slug\":...</td>\n",
       "      <td>USD</td>\n",
       "      <td>$</td>\n",
       "      <td>True</td>\n",
       "      <td>USD</td>\n",
       "      <td>1504976459</td>\n",
       "      <td>False</td>\n",
       "      <td>NaN</td>\n",
       "      <td>1.0</td>\n",
       "      <td>1000.0</td>\n",
       "      <td>928751314</td>\n",
       "      <td>NaN</td>\n",
       "      <td>False</td>\n",
       "      <td>NaN</td>\n",
       "      <td>1502384459</td>\n",
       "      <td>{\"id\":2400549,\"name\":\"Euless\",\"slug\":\"euless-t...</td>\n",
       "      <td>The Ofrenda Oracle Deck</td>\n",
       "      <td>NaN</td>\n",
       "      <td>{\"key\":\"assets/017/766/989/dd9f18c773a8546d996...</td>\n",
       "      <td>1950.0</td>\n",
       "      <td>{\"id\":3094785,\"project_id\":3094785,\"state\":\"ac...</td>\n",
       "      <td>the-ofrenda-oracle-deck</td>\n",
       "      <td>https://www.kickstarter.com/discover/categorie...</td>\n",
       "      <td>True</td>\n",
       "      <td>False</td>\n",
       "      <td>successful</td>\n",
       "      <td>1504976459</td>\n",
       "      <td>1.0</td>\n",
       "      <td>{\"web\":{\"project\":\"https://www.kickstarter.com...</td>\n",
       "      <td>1950.0</td>\n",
       "      <td>domestic</td>\n",
       "    </tr>\n",
       "    <tr>\n",
       "      <th>2</th>\n",
       "      <td>271</td>\n",
       "      <td>Electra's long awaited, eclectic Debut Pop/Roc...</td>\n",
       "      <td>{\"id\":43,\"name\":\"Rock\",\"slug\":\"music/rock\",\"po...</td>\n",
       "      <td>22404</td>\n",
       "      <td>US</td>\n",
       "      <td>1348987533</td>\n",
       "      <td>{\"id\":323849677,\"name\":\"Electra\",\"is_registere...</td>\n",
       "      <td>USD</td>\n",
       "      <td>$</td>\n",
       "      <td>True</td>\n",
       "      <td>USD</td>\n",
       "      <td>1371013395</td>\n",
       "      <td>False</td>\n",
       "      <td>NaN</td>\n",
       "      <td>1.0</td>\n",
       "      <td>15000.0</td>\n",
       "      <td>928014092</td>\n",
       "      <td>NaN</td>\n",
       "      <td>False</td>\n",
       "      <td>NaN</td>\n",
       "      <td>1368421395</td>\n",
       "      <td>{\"id\":2423474,\"name\":\"Hollywood\",\"slug\":\"holly...</td>\n",
       "      <td>Record Electra's Debut Album (Pop, Rock, Class...</td>\n",
       "      <td>NaN</td>\n",
       "      <td>{\"key\":\"assets/011/433/681/489fd66f7861fefd8c8...</td>\n",
       "      <td>22404.0</td>\n",
       "      <td>{\"id\":359847,\"project_id\":359847,\"state\":\"inac...</td>\n",
       "      <td>record-electras-debut-album-pop-rock-classical</td>\n",
       "      <td>https://www.kickstarter.com/discover/categorie...</td>\n",
       "      <td>True</td>\n",
       "      <td>False</td>\n",
       "      <td>successful</td>\n",
       "      <td>1371013395</td>\n",
       "      <td>1.0</td>\n",
       "      <td>{\"web\":{\"project\":\"https://www.kickstarter.com...</td>\n",
       "      <td>22404.0</td>\n",
       "      <td>international</td>\n",
       "    </tr>\n",
       "  </tbody>\n",
       "</table>\n",
       "</div>"
      ],
      "text/plain": [
       "   backers_count                                              blurb  \\\n",
       "0            315                                      Babalus Shoes   \n",
       "1             47  A colorful Dia de los Muertos themed oracle de...   \n",
       "2            271  Electra's long awaited, eclectic Debut Pop/Roc...   \n",
       "\n",
       "                                            category  \\\n",
       "0  {\"id\":266,\"name\":\"Footwear\",\"slug\":\"fashion/fo...   \n",
       "1  {\"id\":273,\"name\":\"Playing Cards\",\"slug\":\"games...   \n",
       "2  {\"id\":43,\"name\":\"Rock\",\"slug\":\"music/rock\",\"po...   \n",
       "\n",
       "   converted_pledged_amount country  created_at  \\\n",
       "0                     28645      US  1541459205   \n",
       "1                      1950      US  1501684093   \n",
       "2                     22404      US  1348987533   \n",
       "\n",
       "                                             creator currency currency_symbol  \\\n",
       "0  {\"id\":2094277840,\"name\":\"Lucy Conroy\",\"slug\":\"...      USD               $   \n",
       "1  {\"id\":723886115,\"name\":\"Lisa Vollrath\",\"slug\":...      USD               $   \n",
       "2  {\"id\":323849677,\"name\":\"Electra\",\"is_registere...      USD               $   \n",
       "\n",
       "   currency_trailing_code current_currency    deadline  disable_communication  \\\n",
       "0                    True              USD  1552539775                  False   \n",
       "1                    True              USD  1504976459                  False   \n",
       "2                    True              USD  1371013395                  False   \n",
       "\n",
       "  friends  fx_rate     goal          id is_backing  is_starrable is_starred  \\\n",
       "0     NaN      1.0  28000.0  2108505034        NaN         False        NaN   \n",
       "1     NaN      1.0   1000.0   928751314        NaN         False        NaN   \n",
       "2     NaN      1.0  15000.0   928014092        NaN         False        NaN   \n",
       "\n",
       "   launched_at                                           location  \\\n",
       "0   1548223375  {\"id\":2462429,\"name\":\"Novato\",\"slug\":\"novato-c...   \n",
       "1   1502384459  {\"id\":2400549,\"name\":\"Euless\",\"slug\":\"euless-t...   \n",
       "2   1368421395  {\"id\":2423474,\"name\":\"Hollywood\",\"slug\":\"holly...   \n",
       "\n",
       "                                                name permissions  \\\n",
       "0                           Babalus Children's Shoes         NaN   \n",
       "1                            The Ofrenda Oracle Deck         NaN   \n",
       "2  Record Electra's Debut Album (Pop, Rock, Class...         NaN   \n",
       "\n",
       "                                               photo  pledged  \\\n",
       "0  {\"key\":\"assets/023/667/205/a565fde5382d6b53276...  28645.0   \n",
       "1  {\"key\":\"assets/017/766/989/dd9f18c773a8546d996...   1950.0   \n",
       "2  {\"key\":\"assets/011/433/681/489fd66f7861fefd8c8...  22404.0   \n",
       "\n",
       "                                             profile  \\\n",
       "0  {\"id\":3508024,\"project_id\":3508024,\"state\":\"in...   \n",
       "1  {\"id\":3094785,\"project_id\":3094785,\"state\":\"ac...   \n",
       "2  {\"id\":359847,\"project_id\":359847,\"state\":\"inac...   \n",
       "\n",
       "                                             slug  \\\n",
       "0                         babalus-childrens-shoes   \n",
       "1                         the-ofrenda-oracle-deck   \n",
       "2  record-electras-debut-album-pop-rock-classical   \n",
       "\n",
       "                                          source_url  spotlight  staff_pick  \\\n",
       "0  https://www.kickstarter.com/discover/categorie...      False       False   \n",
       "1  https://www.kickstarter.com/discover/categorie...       True       False   \n",
       "2  https://www.kickstarter.com/discover/categorie...       True       False   \n",
       "\n",
       "        state  state_changed_at  static_usd_rate  \\\n",
       "0        live        1548223375              1.0   \n",
       "1  successful        1504976459              1.0   \n",
       "2  successful        1371013395              1.0   \n",
       "\n",
       "                                                urls  usd_pledged  \\\n",
       "0  {\"web\":{\"project\":\"https://www.kickstarter.com...      28645.0   \n",
       "1  {\"web\":{\"project\":\"https://www.kickstarter.com...       1950.0   \n",
       "2  {\"web\":{\"project\":\"https://www.kickstarter.com...      22404.0   \n",
       "\n",
       "        usd_type  \n",
       "0  international  \n",
       "1       domestic  \n",
       "2  international  "
      ]
     },
     "execution_count": 5,
     "metadata": {},
     "output_type": "execute_result"
    }
   ],
   "source": [
    "#Check the top entries:\n",
    "df_raw.head(3)"
   ]
  },
  {
   "cell_type": "code",
   "execution_count": 6,
   "metadata": {},
   "outputs": [
    {
     "data": {
      "text/html": [
       "<div>\n",
       "<style scoped>\n",
       "    .dataframe tbody tr th:only-of-type {\n",
       "        vertical-align: middle;\n",
       "    }\n",
       "\n",
       "    .dataframe tbody tr th {\n",
       "        vertical-align: top;\n",
       "    }\n",
       "\n",
       "    .dataframe thead th {\n",
       "        text-align: right;\n",
       "    }\n",
       "</style>\n",
       "<table border=\"1\" class=\"dataframe\">\n",
       "  <thead>\n",
       "    <tr style=\"text-align: right;\">\n",
       "      <th></th>\n",
       "      <th>backers_count</th>\n",
       "      <th>blurb</th>\n",
       "      <th>category</th>\n",
       "      <th>converted_pledged_amount</th>\n",
       "      <th>country</th>\n",
       "      <th>created_at</th>\n",
       "      <th>creator</th>\n",
       "      <th>currency</th>\n",
       "      <th>currency_symbol</th>\n",
       "      <th>currency_trailing_code</th>\n",
       "      <th>current_currency</th>\n",
       "      <th>deadline</th>\n",
       "      <th>disable_communication</th>\n",
       "      <th>friends</th>\n",
       "      <th>fx_rate</th>\n",
       "      <th>goal</th>\n",
       "      <th>id</th>\n",
       "      <th>is_backing</th>\n",
       "      <th>is_starrable</th>\n",
       "      <th>is_starred</th>\n",
       "      <th>launched_at</th>\n",
       "      <th>location</th>\n",
       "      <th>name</th>\n",
       "      <th>permissions</th>\n",
       "      <th>photo</th>\n",
       "      <th>pledged</th>\n",
       "      <th>profile</th>\n",
       "      <th>slug</th>\n",
       "      <th>source_url</th>\n",
       "      <th>spotlight</th>\n",
       "      <th>staff_pick</th>\n",
       "      <th>state</th>\n",
       "      <th>state_changed_at</th>\n",
       "      <th>static_usd_rate</th>\n",
       "      <th>urls</th>\n",
       "      <th>usd_pledged</th>\n",
       "      <th>usd_type</th>\n",
       "    </tr>\n",
       "  </thead>\n",
       "  <tbody>\n",
       "    <tr>\n",
       "      <th>209219</th>\n",
       "      <td>62</td>\n",
       "      <td>What started as a homemade gift has turned int...</td>\n",
       "      <td>{\"id\":52,\"name\":\"Hardware\",\"slug\":\"technology/...</td>\n",
       "      <td>2681</td>\n",
       "      <td>US</td>\n",
       "      <td>1341343795</td>\n",
       "      <td>{\"id\":891767476,\"name\":\"Doug Stienstra\",\"is_re...</td>\n",
       "      <td>USD</td>\n",
       "      <td>$</td>\n",
       "      <td>True</td>\n",
       "      <td>USD</td>\n",
       "      <td>1347854340</td>\n",
       "      <td>False</td>\n",
       "      <td>NaN</td>\n",
       "      <td>1.0</td>\n",
       "      <td>2500.0</td>\n",
       "      <td>67097337</td>\n",
       "      <td>NaN</td>\n",
       "      <td>False</td>\n",
       "      <td>NaN</td>\n",
       "      <td>1344976590</td>\n",
       "      <td>{\"id\":2357536,\"name\":\"Austin\",\"slug\":\"austin-t...</td>\n",
       "      <td>FlashPals: Cuddly USB Drives Save More Than Yo...</td>\n",
       "      <td>NaN</td>\n",
       "      <td>{\"key\":\"assets/011/390/191/4f70456881abb2dcedd...</td>\n",
       "      <td>2681.0</td>\n",
       "      <td>{\"id\":248552,\"project_id\":248552,\"state\":\"inac...</td>\n",
       "      <td>flashpals-cuddly-usb-drives-save-more-than-you...</td>\n",
       "      <td>https://www.kickstarter.com/discover/categorie...</td>\n",
       "      <td>True</td>\n",
       "      <td>False</td>\n",
       "      <td>successful</td>\n",
       "      <td>1347854341</td>\n",
       "      <td>1.0</td>\n",
       "      <td>{\"web\":{\"project\":\"https://www.kickstarter.com...</td>\n",
       "      <td>2681.0</td>\n",
       "      <td>international</td>\n",
       "    </tr>\n",
       "    <tr>\n",
       "      <th>209220</th>\n",
       "      <td>76</td>\n",
       "      <td>Seattle Transmedia &amp; Independent Film Festival...</td>\n",
       "      <td>{\"id\":295,\"name\":\"Festivals\",\"slug\":\"film &amp; vi...</td>\n",
       "      <td>5692</td>\n",
       "      <td>US</td>\n",
       "      <td>1425256957</td>\n",
       "      <td>{\"id\":307076473,\"name\":\"Timothy Vernor\",\"is_re...</td>\n",
       "      <td>USD</td>\n",
       "      <td>$</td>\n",
       "      <td>True</td>\n",
       "      <td>USD</td>\n",
       "      <td>1429536375</td>\n",
       "      <td>False</td>\n",
       "      <td>NaN</td>\n",
       "      <td>1.0</td>\n",
       "      <td>5500.0</td>\n",
       "      <td>1031742546</td>\n",
       "      <td>NaN</td>\n",
       "      <td>False</td>\n",
       "      <td>NaN</td>\n",
       "      <td>1426944375</td>\n",
       "      <td>{\"id\":2510075,\"name\":\"University District\",\"sl...</td>\n",
       "      <td>Transmedia Gallery Space STIFF 2015</td>\n",
       "      <td>NaN</td>\n",
       "      <td>{\"key\":\"assets/012/055/131/c728543aff0f2d3dfca...</td>\n",
       "      <td>5692.0</td>\n",
       "      <td>{\"id\":1741612,\"project_id\":1741612,\"state\":\"in...</td>\n",
       "      <td>transmedia-gallery-space-stiff-2015</td>\n",
       "      <td>https://www.kickstarter.com/discover/categorie...</td>\n",
       "      <td>True</td>\n",
       "      <td>False</td>\n",
       "      <td>successful</td>\n",
       "      <td>1429536379</td>\n",
       "      <td>1.0</td>\n",
       "      <td>{\"web\":{\"project\":\"https://www.kickstarter.com...</td>\n",
       "      <td>5692.0</td>\n",
       "      <td>domestic</td>\n",
       "    </tr>\n",
       "    <tr>\n",
       "      <th>209221</th>\n",
       "      <td>44</td>\n",
       "      <td>The @1000TimesYes 2009 Tweet Box is a handmade...</td>\n",
       "      <td>{\"id\":13,\"name\":\"Journalism\",\"slug\":\"journalis...</td>\n",
       "      <td>1293</td>\n",
       "      <td>US</td>\n",
       "      <td>1263225900</td>\n",
       "      <td>{\"id\":1718677513,\"name\":\"Article\",\"slug\":\"arti...</td>\n",
       "      <td>USD</td>\n",
       "      <td>$</td>\n",
       "      <td>True</td>\n",
       "      <td>USD</td>\n",
       "      <td>1266814740</td>\n",
       "      <td>False</td>\n",
       "      <td>NaN</td>\n",
       "      <td>1.0</td>\n",
       "      <td>1000.0</td>\n",
       "      <td>1374988684</td>\n",
       "      <td>NaN</td>\n",
       "      <td>False</td>\n",
       "      <td>NaN</td>\n",
       "      <td>1264099593</td>\n",
       "      <td>{\"id\":2459115,\"name\":\"New York\",\"slug\":\"new-yo...</td>\n",
       "      <td>The @1000TimesYes 2009 Tweet Box</td>\n",
       "      <td>NaN</td>\n",
       "      <td>{\"key\":\"assets/011/259/312/82bb715be131b061ecd...</td>\n",
       "      <td>1293.0</td>\n",
       "      <td>{\"id\":2624,\"project_id\":2624,\"state\":\"inactive...</td>\n",
       "      <td>the-1000timesyes-2009-tweet-box</td>\n",
       "      <td>https://www.kickstarter.com/discover/categorie...</td>\n",
       "      <td>True</td>\n",
       "      <td>True</td>\n",
       "      <td>successful</td>\n",
       "      <td>1266814815</td>\n",
       "      <td>1.0</td>\n",
       "      <td>{\"web\":{\"project\":\"https://www.kickstarter.com...</td>\n",
       "      <td>1293.0</td>\n",
       "      <td>domestic</td>\n",
       "    </tr>\n",
       "  </tbody>\n",
       "</table>\n",
       "</div>"
      ],
      "text/plain": [
       "        backers_count                                              blurb  \\\n",
       "209219             62  What started as a homemade gift has turned int...   \n",
       "209220             76  Seattle Transmedia & Independent Film Festival...   \n",
       "209221             44  The @1000TimesYes 2009 Tweet Box is a handmade...   \n",
       "\n",
       "                                                 category  \\\n",
       "209219  {\"id\":52,\"name\":\"Hardware\",\"slug\":\"technology/...   \n",
       "209220  {\"id\":295,\"name\":\"Festivals\",\"slug\":\"film & vi...   \n",
       "209221  {\"id\":13,\"name\":\"Journalism\",\"slug\":\"journalis...   \n",
       "\n",
       "        converted_pledged_amount country  created_at  \\\n",
       "209219                      2681      US  1341343795   \n",
       "209220                      5692      US  1425256957   \n",
       "209221                      1293      US  1263225900   \n",
       "\n",
       "                                                  creator currency  \\\n",
       "209219  {\"id\":891767476,\"name\":\"Doug Stienstra\",\"is_re...      USD   \n",
       "209220  {\"id\":307076473,\"name\":\"Timothy Vernor\",\"is_re...      USD   \n",
       "209221  {\"id\":1718677513,\"name\":\"Article\",\"slug\":\"arti...      USD   \n",
       "\n",
       "       currency_symbol  currency_trailing_code current_currency    deadline  \\\n",
       "209219               $                    True              USD  1347854340   \n",
       "209220               $                    True              USD  1429536375   \n",
       "209221               $                    True              USD  1266814740   \n",
       "\n",
       "        disable_communication friends  fx_rate    goal          id is_backing  \\\n",
       "209219                  False     NaN      1.0  2500.0    67097337        NaN   \n",
       "209220                  False     NaN      1.0  5500.0  1031742546        NaN   \n",
       "209221                  False     NaN      1.0  1000.0  1374988684        NaN   \n",
       "\n",
       "        is_starrable is_starred  launched_at  \\\n",
       "209219         False        NaN   1344976590   \n",
       "209220         False        NaN   1426944375   \n",
       "209221         False        NaN   1264099593   \n",
       "\n",
       "                                                 location  \\\n",
       "209219  {\"id\":2357536,\"name\":\"Austin\",\"slug\":\"austin-t...   \n",
       "209220  {\"id\":2510075,\"name\":\"University District\",\"sl...   \n",
       "209221  {\"id\":2459115,\"name\":\"New York\",\"slug\":\"new-yo...   \n",
       "\n",
       "                                                     name permissions  \\\n",
       "209219  FlashPals: Cuddly USB Drives Save More Than Yo...         NaN   \n",
       "209220                Transmedia Gallery Space STIFF 2015         NaN   \n",
       "209221                   The @1000TimesYes 2009 Tweet Box         NaN   \n",
       "\n",
       "                                                    photo  pledged  \\\n",
       "209219  {\"key\":\"assets/011/390/191/4f70456881abb2dcedd...   2681.0   \n",
       "209220  {\"key\":\"assets/012/055/131/c728543aff0f2d3dfca...   5692.0   \n",
       "209221  {\"key\":\"assets/011/259/312/82bb715be131b061ecd...   1293.0   \n",
       "\n",
       "                                                  profile  \\\n",
       "209219  {\"id\":248552,\"project_id\":248552,\"state\":\"inac...   \n",
       "209220  {\"id\":1741612,\"project_id\":1741612,\"state\":\"in...   \n",
       "209221  {\"id\":2624,\"project_id\":2624,\"state\":\"inactive...   \n",
       "\n",
       "                                                     slug  \\\n",
       "209219  flashpals-cuddly-usb-drives-save-more-than-you...   \n",
       "209220                transmedia-gallery-space-stiff-2015   \n",
       "209221                    the-1000timesyes-2009-tweet-box   \n",
       "\n",
       "                                               source_url  spotlight  \\\n",
       "209219  https://www.kickstarter.com/discover/categorie...       True   \n",
       "209220  https://www.kickstarter.com/discover/categorie...       True   \n",
       "209221  https://www.kickstarter.com/discover/categorie...       True   \n",
       "\n",
       "        staff_pick       state  state_changed_at  static_usd_rate  \\\n",
       "209219       False  successful        1347854341              1.0   \n",
       "209220       False  successful        1429536379              1.0   \n",
       "209221        True  successful        1266814815              1.0   \n",
       "\n",
       "                                                     urls  usd_pledged  \\\n",
       "209219  {\"web\":{\"project\":\"https://www.kickstarter.com...       2681.0   \n",
       "209220  {\"web\":{\"project\":\"https://www.kickstarter.com...       5692.0   \n",
       "209221  {\"web\":{\"project\":\"https://www.kickstarter.com...       1293.0   \n",
       "\n",
       "             usd_type  \n",
       "209219  international  \n",
       "209220       domestic  \n",
       "209221       domestic  "
      ]
     },
     "execution_count": 6,
     "metadata": {},
     "output_type": "execute_result"
    }
   ],
   "source": [
    "#Check the last entries:\n",
    "df_raw.tail(3)"
   ]
  },
  {
   "cell_type": "markdown",
   "metadata": {},
   "source": [
    "### Finding missing values"
   ]
  },
  {
   "cell_type": "code",
   "execution_count": 7,
   "metadata": {},
   "outputs": [
    {
     "ename": "ModuleNotFoundError",
     "evalue": "No module named 'missingno'",
     "output_type": "error",
     "traceback": [
      "\u001b[0;31m---------------------------------------------------------------------------\u001b[0m",
      "\u001b[0;31mModuleNotFoundError\u001b[0m                       Traceback (most recent call last)",
      "\u001b[0;32m<ipython-input-7-842de20e6c02>\u001b[0m in \u001b[0;36m<module>\u001b[0;34m\u001b[0m\n\u001b[0;32m----> 1\u001b[0;31m \u001b[0;32mimport\u001b[0m \u001b[0mmissingno\u001b[0m\u001b[0;34m\u001b[0m\u001b[0;34m\u001b[0m\u001b[0m\n\u001b[0m\u001b[1;32m      2\u001b[0m \u001b[0;34m\u001b[0m\u001b[0m\n\u001b[1;32m      3\u001b[0m \u001b[0;31m# visualize all missings in plot\u001b[0m\u001b[0;34m\u001b[0m\u001b[0;34m\u001b[0m\u001b[0;34m\u001b[0m\u001b[0m\n\u001b[1;32m      4\u001b[0m \u001b[0;34m\u001b[0m\u001b[0m\n\u001b[1;32m      5\u001b[0m \u001b[0;32mif\u001b[0m \u001b[0mlen\u001b[0m\u001b[0;34m(\u001b[0m\u001b[0mdf_raw\u001b[0m\u001b[0;34m[\u001b[0m\u001b[0mdf_raw\u001b[0m\u001b[0;34m.\u001b[0m\u001b[0misnull\u001b[0m\u001b[0;34m(\u001b[0m\u001b[0;34m)\u001b[0m\u001b[0;34m.\u001b[0m\u001b[0many\u001b[0m\u001b[0;34m(\u001b[0m\u001b[0maxis\u001b[0m\u001b[0;34m=\u001b[0m\u001b[0;36m1\u001b[0m\u001b[0;34m)\u001b[0m\u001b[0;34m]\u001b[0m \u001b[0;34m!=\u001b[0m \u001b[0;36m0\u001b[0m\u001b[0;34m)\u001b[0m\u001b[0;34m:\u001b[0m\u001b[0;34m\u001b[0m\u001b[0;34m\u001b[0m\u001b[0m\n",
      "\u001b[0;31mModuleNotFoundError\u001b[0m: No module named 'missingno'"
     ]
    }
   ],
   "source": [
    "import missingno\n",
    "\n",
    "# visualize all missings in plot\n",
    "\n",
    "if len(df_raw[df_raw.isnull().any(axis=1)] != 0):\n",
    "    print(\"\\nPreview of data with null values:\\nxxxxxxxxxxxxx\")\n",
    "    print(df_raw[df_raw.isnull().any(axis=1)].head(3))\n",
    "    missingno.matrix(df_raw)\n",
    "    plt.show()\n",
    "\n",
    "# give out missings as list\n",
    "\n",
    "missing_data = df_raw.isnull().sum().sort_values(ascending=False)\n",
    "print(missing_data)"
   ]
  },
  {
   "cell_type": "markdown",
   "metadata": {},
   "source": [
    "for \"is_backing\", \"permissions\", \"is_starred\", \"friends\" almost all values are missings, so we'll drop these columns, since we have no direct options to impute these values"
   ]
  },
  {
   "cell_type": "code",
   "execution_count": null,
   "metadata": {},
   "outputs": [],
   "source": [
    "#Creating new dataset without columns filled with nans\n",
    "df_dropclean = df_raw.drop([\"is_backing\",\"permissions\",\"is_starred\", \"friends\"], axis=1)"
   ]
  },
  {
   "cell_type": "markdown",
   "metadata": {},
   "source": [
    "### Closer Look at variables in the Dataset"
   ]
  },
  {
   "cell_type": "markdown",
   "metadata": {},
   "source": [
    "#### Deleting unrelevant variables"
   ]
  },
  {
   "cell_type": "markdown",
   "metadata": {},
   "source": [
    "Following variables give no further insight to our goal, since they include URLs / symbols, which don't have any insight for us for now, so we'll drop them aswell "
   ]
  },
  {
   "cell_type": "code",
   "execution_count": null,
   "metadata": {},
   "outputs": [],
   "source": [
    "df_dropclean = df_dropclean.drop([\"currency_symbol\",\"photo\", \"slug\", \"source_url\", \"urls\"], axis=1)"
   ]
  },
  {
   "cell_type": "markdown",
   "metadata": {},
   "source": [
    "Let's look at \"disable_communication\""
   ]
  },
  {
   "cell_type": "code",
   "execution_count": null,
   "metadata": {},
   "outputs": [],
   "source": [
    "df_dropclean.disable_communication.value_counts()"
   ]
  },
  {
   "cell_type": "markdown",
   "metadata": {},
   "source": [
    "Since almost every project allowed communication with their backers, this adds no extra insight to our analysis, so we'll drop this variable. We assume that not enabling communication would have a bad impact on whether the project is backed, so we'll keep this in mind for future work"
   ]
  },
  {
   "cell_type": "code",
   "execution_count": null,
   "metadata": {},
   "outputs": [],
   "source": [
    "df_dropclean = df_dropclean.drop([\"disable_communication\"], axis=1)"
   ]
  },
  {
   "cell_type": "markdown",
   "metadata": {},
   "source": [
    "#### Odd-formatting - dictionaries\n",
    "Let's have a look at the four peculiar formatted variables category, location, profile and creator by manually selecting the first entry of the first csv-chunk"
   ]
  },
  {
   "cell_type": "markdown",
   "metadata": {},
   "source": [
    "- category<br>\n",
    "{\"\"id\"\":43,\"\"name\"\":\"\"Rock\"\",\"\"slug\"\":\"\"music/rock\"\",\"\"position\"\":17,\"\"parent_id\"\":14,\"\"color\"\":10878931,\"\"urls\"\":{\"\"web\"\":{\"\"discover\"\":\"\"http://www.kickstarter.com/discover/categories/music/rock\"\"}}}\n",
    "<br>\n",
    "<br>\n",
    "\n",
    "- location<br>\n",
    "{\"\"id\"\":2379574,\"\"name\"\":\"\"Chicago\"\",\"\"slug\"\":\"\"chicago-il\"\",\"\"short_name\"\":\"\"Chicago, IL\"\",\"\"displayable_name\"\":\"\"Chicago, IL\"\",\"\"localized_name\"\":\"\"Chicago\"\",\"\"country\"\":\"\"US\"\",\"\"state\"\":\"\"IL\"\",\"\"type\"\":\"\"Town\"\",\"\"is_root\"\":false,\"\"urls\"\":{\"\"web\"\":{\"\"discover\"\":\"\"https://www.kickstarter.com/discover/places/chicago-il\"\",\"\"location\"\":\"\"https://www.kickstarter.com/locations/chicago-il\"\"},\"\"api\"\":{\"\"nearby_projects\"\":\"\"https://api.kickstarter.com/v1/discover?signature=1552595044.c1041c6bca69b0b72738f3b9504ebf921b3e5e0e&woe_id=2379574\"\"}}}\n",
    "<br>\n",
    "<br>\n",
    "\n",
    "- profile<br>\n",
    "{\"\"id\"\":822687,\"\"project_id\"\":822687,\"\"state\"\":\"\"inactive\"\",\"\"state_changed_at\"\":1425915845,\"\"name\"\":null,\"\"blurb\"\":null,\"\"background_color\"\":null,\"\"text_color\"\":null,\"\"link_background_color\"\":null,\"\"link_text_color\"\":null,\"\"link_text\"\":null,\"\"link_url\"\":null,\"\"show_feature_image\"\":false,\"\"background_image_opacity\"\":0.8,\"\"should_show_feature_image_section\"\":true,\"\"feature_image_attributes\"\":{\"\"image_urls\"\":{\"\"default\"\":\"\"https://ksr-ugc.imgix.net/assets/011/625/534/5bea1760d7f20943c4cd5e9b4911c1bd_original.jpg?ixlib=rb-1.1.0&crop=faces&w=1552&h=873&fit=crop&v=1463685705&auto=format&frame=1&q=92&s=90c72b785ef97539099dffb8531dcad3\"\",\"\"baseball_card\"\":\"\"https://ksr-ugc.imgix.net/assets/011/625/534/5bea1760d7f20943c4cd5e9b4911c1bd_original.jpg?ixlib=rb-1.1.0&crop=faces&w=560&h=315&fit=crop&v=1463685705&auto=format&frame=1&q=92&s=883b3ff098e5fc4cf6fec280665f5fd0\"\"}}}\n",
    "<br>\n",
    "<br>\n",
    "\n",
    "- creator<br>\n",
    "{\"\"id\"\":1495925645,\"\"name\"\":\"\"Daniel\"\",\"\"is_registered\"\":null,\"\"chosen_currency\"\":null,\"\"avatar\"\":{\"\"thumb\"\":\"\"https://ksr-ugc.imgix.net/assets/006/041/047/c44d1a95c2139ae46af635c7c6e7ea76_original.jpg?ixlib=rb-1.1.0&w=40&h=40&fit=crop&v=1461362658&auto=format&frame=1&q=92&s=3d655afafac9dbb59c1e675adfa87082\"\",\"\"small\"\":\"\"https://ksr-ugc.imgix.net/assets/006/041/047/c44d1a95c2139ae46af635c7c6e7ea76_original.jpg?ixlib=rb-1.1.0&w=160&h=160&fit=crop&v=1461362658&auto=format&frame=1&q=92&s=3973d24f5c3db1ed1d5c84cec8af1d6d\"\",\"\"medium\"\":\"\"https://ksr-ugc.imgix.net/assets/006/041/047/c44d1a95c2139ae46af635c7c6e7ea76_original.jpg?ixlib=rb-1.1.0&w=160&h=160&fit=crop&v=1461362658&auto=format&frame=1&q=92&s=3973d24f5c3db1ed1d5c84cec8af1d6d\"\"},\"\"urls\"\":{\"\"web\"\":{\"\"user\"\":\"\"https://www.kickstarter.com/profile/1495925645\"\"},\"\"api\"\":{\"\"user\"\":\"\"https://api.kickstarter.com/v1/users/1495925645?signature=1552621462.382152be8688b069cea0ab5f3a266a1530d83c3f\"\"}}}"
   ]
  },
  {
   "cell_type": "markdown",
   "metadata": {},
   "source": [
    "- \"profile\" has no other information than already provided in the dataframe, so let's drop it\n",
    "- \"location\" adresses cities and states. We assume that the city/state doesn't have any effect on the kickstarter success, since it's brought to the internet, where location doesn't play a big role. The country information is provided in another feature in the column name, so we'll drop this one, too."
   ]
  },
  {
   "cell_type": "code",
   "execution_count": null,
   "metadata": {},
   "outputs": [],
   "source": [
    "df_dropclean = df_dropclean.drop([\"location\", \"profile\"], axis=1)"
   ]
  },
  {
   "cell_type": "markdown",
   "metadata": {},
   "source": [
    "* \"category\" and \"creator\" may lead to interesting insights, so we'll keep them for now and encode the interesting information from the long strings"
   ]
  },
  {
   "cell_type": "code",
   "execution_count": null,
   "metadata": {},
   "outputs": [],
   "source": [
    "# replace symbols and unnecessary text\n",
    "\n",
    "df_dropclean['category'].replace(regex=True,inplace=True,to_replace=r'\"',value=r'')\n",
    "df_dropclean['category'].replace(regex=True,inplace=True,to_replace=r'{',value=r'')\n",
    "df_dropclean['category'].replace(regex=True,inplace=True,to_replace=r'id:',value=r'')\n",
    "df_dropclean['category'].replace(regex=True,inplace=True,to_replace=r'name:',value=r'') \n",
    "df_dropclean['category'].replace(regex=True,inplace=True,to_replace=r'slug:',value=r'')\n",
    "\n",
    "# separate the unformatted strings and build new columns out of them\n",
    "# only select first three information, rest is not of interest\n",
    "\n",
    "df_dropclean[\"category_ID\"] = df_dropclean[\"category\"].str.split(\",\", n =3, expand = True).loc[:,0]\n",
    "df_dropclean[\"subcategory\"] = df_dropclean[\"category\"].str.split(\",\", n =3, expand = True).loc[:,1]\n",
    "df_dropclean[\"metacategory\"] = df_dropclean[\"category\"].str.split(\",\", n =3, expand = True).loc[:,2]\n",
    "df_dropclean[\"metacategory\"] = df_dropclean[\"metacategory\"].str.split(\"/\").str[0]\n",
    "\n",
    "# drop old category column, since it is now encoded\n",
    "\n",
    "df_dropclean = df_dropclean.drop ([\"category\"], axis=1)"
   ]
  },
  {
   "cell_type": "code",
   "execution_count": null,
   "metadata": {},
   "outputs": [],
   "source": [
    "# do the same for creator, here we are only interested in the creator ID\n",
    "\n",
    "df_dropclean['creator'].replace(regex=True,inplace=True,to_replace=r'\"',value=r'')\n",
    "df_dropclean['creator'].replace(regex=True,inplace=True,to_replace=r'{',value=r'')\n",
    "df_dropclean['creator'].replace(regex=True,inplace=True,to_replace=r'id:',value=r'')\n",
    "df_dropclean[\"creator_ID\"] = df_dropclean[\"creator\"].str.split(\",\", n =1, expand = True).loc[:,0]\n",
    "\n",
    "# drop old creator column, since it is now encoded\n",
    "df_dropclean = df_dropclean.drop ([\"creator\"], axis=1)"
   ]
  },
  {
   "cell_type": "markdown",
   "metadata": {},
   "source": [
    "#### Currency-related variables\n",
    "Have a deeper look at all the curreny-related columns"
   ]
  },
  {
   "cell_type": "code",
   "execution_count": null,
   "metadata": {},
   "outputs": [],
   "source": [
    "# continue with copy of dataframe to save progress\n",
    "df_dropclean2 = df_dropclean.copy()"
   ]
  },
  {
   "cell_type": "markdown",
   "metadata": {},
   "source": [
    "##### 1. current_currency\n",
    "* Due to uncertainty weather values are converted into USD, drop rows, where \"current_currency\" is not USD\n",
    "* number of instances dropped is quite small compared to the whole dataset"
   ]
  },
  {
   "cell_type": "code",
   "execution_count": null,
   "metadata": {},
   "outputs": [],
   "source": [
    "df_dropclean2.current_currency.value_counts()"
   ]
  },
  {
   "cell_type": "code",
   "execution_count": null,
   "metadata": {},
   "outputs": [],
   "source": [
    "df_dropclean2 = df_dropclean2[df_dropclean2.current_currency == 'USD']\n",
    "##Check:\n",
    "df_dropclean2.current_currency.value_counts()"
   ]
  },
  {
   "cell_type": "markdown",
   "metadata": {},
   "source": [
    "##### 2. convert the minimum threshold (\"goal\") into USD, to be consistent"
   ]
  },
  {
   "cell_type": "code",
   "execution_count": null,
   "metadata": {},
   "outputs": [],
   "source": [
    "df_dropclean2['goal_usd'] = df_dropclean2['goal'] * df_dropclean2['static_usd_rate']"
   ]
  },
  {
   "cell_type": "markdown",
   "metadata": {},
   "source": [
    "##### 3. delete all non-relevant currency-related columns\n",
    "- this includes old \"goal\" variable, both exchange rates, \"pledged\" (information already in \"converted pledged amount\") and \"usd_type\" (yields no information)\n",
    "- usd_pledged and converted_pledged_amount identical, so also dropped"
   ]
  },
  {
   "cell_type": "code",
   "execution_count": null,
   "metadata": {},
   "outputs": [],
   "source": [
    "plt.scatter(x=df_dropclean2[\"usd_pledged\"],y=df_dropclean2[\"converted_pledged_amount\"]);"
   ]
  },
  {
   "cell_type": "code",
   "execution_count": null,
   "metadata": {
    "scrolled": true
   },
   "outputs": [],
   "source": [
    "df_dropclean2 = df_dropclean2.drop(columns = ['goal','pledged',\"usd_pledged\",'static_usd_rate', \n",
    "                                              'fx_rate', 'current_currency', 'usd_type',\"currency_trailing_code\"\n",
    "                                             ])"
   ]
  },
  {
   "cell_type": "markdown",
   "metadata": {},
   "source": [
    "#### Time-related variables"
   ]
  },
  {
   "cell_type": "markdown",
   "metadata": {},
   "source": [
    "##### Time-related variables are formatted in Unix timeformat\n",
    "Understanding Unix timeformat:"
   ]
  },
  {
   "cell_type": "markdown",
   "metadata": {},
   "source": [
    "The unix time stamp is a way to track time as a running total of seconds. This count starts at the Unix Epoch on January 1st, 1970 at UTC. Therefore, the unix time stamp is merely the number of seconds between a particular date and the Unix Epoch. It should also be pointed out that this point in time technically does not change no matter where you are located on the globe. <br>\n",
    "--> all time variables are **measured in seconds!** <br> <br>\n",
    "we can easily calculate the difference between different states of the projects:\n",
    "    * created_at\n",
    "    * deadline\n",
    "    * launched at\n",
    "    * state_changed_at \n",
    "\n",
    "we can also convert back with timestap method in original/known data structure"
   ]
  },
  {
   "cell_type": "code",
   "execution_count": null,
   "metadata": {},
   "outputs": [],
   "source": [
    "# create interpretable time differences\n",
    "df_dropclean2['creation_time_to_launch'] = df_dropclean2['launched_at'] - df_dropclean2['created_at']\n",
    "df_dropclean2['goal_reached_time'] = df_dropclean2['state_changed_at'] - df_dropclean2['launched_at']\n",
    "df_dropclean2['planned_time'] = df_dropclean2['deadline'] - df_dropclean2['launched_at']\n",
    "df_dropclean2"
   ]
  },
  {
   "cell_type": "code",
   "execution_count": null,
   "metadata": {},
   "outputs": [],
   "source": [
    "### Convert into more meaningful time interval (from seconds in hours):\n",
    "df_dropclean2['creation_time_to_launch'] = df_dropclean2['creation_time_to_launch'].div(3600)\n",
    "df_dropclean2['goal_reached_time'] = df_dropclean2['goal_reached_time'].div(3600)\n",
    "df_dropclean2['planned_time'] = df_dropclean2['planned_time'].div(3600)\n",
    "df_dropclean2"
   ]
  },
  {
   "cell_type": "markdown",
   "metadata": {},
   "source": [
    "#### Check for duplicates and delete them"
   ]
  },
  {
   "cell_type": "code",
   "execution_count": null,
   "metadata": {
    "scrolled": true
   },
   "outputs": [],
   "source": [
    "# check for duplicates via project id --> \"id\"\n",
    "\n",
    "duplicates = df_dropclean2[df_dropclean2.duplicated(['id'], keep=False)]\n",
    "duplicates = duplicates.sort_values(by=['id'], ascending = False)\n",
    "duplicates.head(10)"
   ]
  },
  {
   "cell_type": "code",
   "execution_count": null,
   "metadata": {},
   "outputs": [],
   "source": [
    "# delete duplicates\n",
    "df_dropclean2 = df_dropclean2.drop_duplicates(subset =\"id\")\n",
    "df_dropclean2.shape"
   ]
  },
  {
   "cell_type": "markdown",
   "metadata": {},
   "source": [
    "##### check again for missing values"
   ]
  },
  {
   "cell_type": "code",
   "execution_count": null,
   "metadata": {},
   "outputs": [],
   "source": [
    "missings = df_dropclean2.isna().sum().sort_values(ascending=False)\n",
    "missings"
   ]
  },
  {
   "cell_type": "markdown",
   "metadata": {},
   "source": [
    "drop 8 rows with missings"
   ]
  },
  {
   "cell_type": "code",
   "execution_count": null,
   "metadata": {},
   "outputs": [],
   "source": [
    "df_dropclean2 = df_dropclean2.dropna(subset=['blurb'])\n",
    "df_dropclean2.shape"
   ]
  },
  {
   "cell_type": "markdown",
   "metadata": {},
   "source": [
    "#### Name and Description"
   ]
  },
  {
   "cell_type": "markdown",
   "metadata": {},
   "source": [
    "##### convert name and description of project into lenght-variables"
   ]
  },
  {
   "cell_type": "code",
   "execution_count": null,
   "metadata": {},
   "outputs": [],
   "source": [
    "df_dropclean2[\"name\"] = df_dropclean2[\"name\"].str.len()\n",
    "df_dropclean2[\"blurb\"] = df_dropclean2[\"blurb\"].str.len()\n",
    "df_dropclean2 = df_dropclean2.rename(columns={\"name\":\"len_of_name\",\"blurb\":\"len_of_description\"})"
   ]
  },
  {
   "cell_type": "markdown",
   "metadata": {},
   "source": [
    "##### bring dataframe in an order"
   ]
  },
  {
   "cell_type": "code",
   "execution_count": null,
   "metadata": {},
   "outputs": [],
   "source": [
    "# rearrange order\n",
    "\n",
    "df_dropclean2 = df_dropclean2[[\"state\",\"converted_pledged_amount\",\"goal_usd\",\"backers_count\",\"currency\",\n",
    "                               \"id\",\"len_of_name\",\"len_of_description\",\"metacategory\",\"subcategory\",\n",
    "                               \"category_ID\",\"creator_ID\",\"country\",\"is_starrable\",\"spotlight\",\"staff_pick\",\n",
    "                               \"created_at\",\"launched_at\",\"state_changed_at\",\"deadline\",\n",
    "                               \"creation_time_to_launch\",\"goal_reached_time\",\"planned_time\"\n",
    "                              ]]\n",
    "df_dropclean2 = df_dropclean2.rename(columns={\"id\":\"project_ID\"})\n",
    "df_dropclean2"
   ]
  },
  {
   "cell_type": "markdown",
   "metadata": {},
   "source": [
    "#### Get a feeling for the boolean variables:"
   ]
  },
  {
   "cell_type": "code",
   "execution_count": null,
   "metadata": {},
   "outputs": [],
   "source": [
    "df_dropclean2[\"is_starrable\"].value_counts()"
   ]
  },
  {
   "cell_type": "code",
   "execution_count": null,
   "metadata": {},
   "outputs": [],
   "source": [
    "df_dropclean2[\"staff_pick\"].value_counts()"
   ]
  },
  {
   "cell_type": "code",
   "execution_count": null,
   "metadata": {},
   "outputs": [],
   "source": [
    "df_dropclean2[\"spotlight\"].value_counts()"
   ]
  },
  {
   "cell_type": "markdown",
   "metadata": {},
   "source": [
    "### Save file for EDA-first insights & Feature Engineering:"
   ]
  },
  {
   "cell_type": "code",
   "execution_count": null,
   "metadata": {},
   "outputs": [],
   "source": [
    "df_dropclean2.to_csv(r'dataframes/cleaned_dataframe.csv', index = False, header=True)"
   ]
  }
 ],
 "metadata": {
  "kernelspec": {
   "display_name": "Python [conda env:nf] *",
   "language": "python",
   "name": "conda-env-nf-py"
  },
  "language_info": {
   "codemirror_mode": {
    "name": "ipython",
    "version": 3
   },
   "file_extension": ".py",
   "mimetype": "text/x-python",
   "name": "python",
   "nbconvert_exporter": "python",
   "pygments_lexer": "ipython3",
   "version": "3.6.10"
  },
  "toc": {
   "base_numbering": 1,
   "nav_menu": {},
   "number_sections": true,
   "sideBar": true,
   "skip_h1_title": false,
   "title_cell": "Table of Contents",
   "title_sidebar": "Contents",
   "toc_cell": false,
   "toc_position": {},
   "toc_section_display": true,
   "toc_window_display": false
  }
 },
 "nbformat": 4,
 "nbformat_minor": 4
}
